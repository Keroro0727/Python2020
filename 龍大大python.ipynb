{
  "nbformat": 4,
  "nbformat_minor": 0,
  "metadata": {
    "colab": {
      "name": "龍大大python.ipynb",
      "provenance": [],
      "collapsed_sections": [],
      "authorship_tag": "ABX9TyPC5MNMtzwfAV7vtqHQjE5g",
      "include_colab_link": true
    },
    "kernelspec": {
      "name": "python3",
      "display_name": "Python 3"
    }
  },
  "cells": [
    {
      "cell_type": "markdown",
      "metadata": {
        "id": "view-in-github",
        "colab_type": "text"
      },
      "source": [
        "<a href=\"https://colab.research.google.com/github/Keroro0727/Python2020/blob/main/%E9%BE%8D%E5%A4%A7%E5%A4%A7python.ipynb\" target=\"_parent\"><img src=\"https://colab.research.google.com/assets/colab-badge.svg\" alt=\"Open In Colab\"/></a>"
      ]
    },
    {
      "cell_type": "markdown",
      "metadata": {
        "id": "XksXl5Df0v_n"
      },
      "source": [
        "龍大大作業中心\n",
        "\n",
        "https://github.com/MyFirstSecurity2020/nsjh/blob/main/week1/BasicPython/X_1_%E6%95%B8%E5%80%BC%E5%9E%8B(Numerics)%E8%B3%87%E6%96%99%E5%9E%8B%E5%88%A5%E5%8F%8A%E5%85%B6%E9%81%8B%E7%AE%97.md"
      ]
    },
    {
      "cell_type": "markdown",
      "metadata": {
        "id": "zL9Sg62y1MGJ"
      },
      "source": [
        "![images (3).jpg](data:image/jpeg;base64,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)"
      ]
    },
    {
      "cell_type": "code",
      "metadata": {
        "colab": {
          "base_uri": "https://localhost:8080/"
        },
        "id": "biWtiyXbrDEo",
        "outputId": "864f6b33-d823-4f6a-81a5-013f793e172d"
      },
      "source": [
        "a = int(input(\"請輸入：\"))\n",
        "a"
      ],
      "execution_count": null,
      "outputs": [
        {
          "output_type": "stream",
          "text": [
            "請輸入：45\n"
          ],
          "name": "stdout"
        },
        {
          "output_type": "execute_result",
          "data": {
            "text/plain": [
              "45"
            ]
          },
          "metadata": {
            "tags": []
          },
          "execution_count": 5
        }
      ]
    },
    {
      "cell_type": "code",
      "metadata": {
        "colab": {
          "base_uri": "https://localhost:8080/"
        },
        "id": "EbJCIi3FrTYw",
        "outputId": "8bdaa9ea-5f2e-41ee-ab0b-02c0d5e03a79"
      },
      "source": [
        "b=a+1\n",
        "b"
      ],
      "execution_count": null,
      "outputs": [
        {
          "output_type": "execute_result",
          "data": {
            "text/plain": [
              "46"
            ]
          },
          "metadata": {
            "tags": []
          },
          "execution_count": 6
        }
      ]
    },
    {
      "cell_type": "code",
      "metadata": {
        "colab": {
          "base_uri": "https://localhost:8080/",
          "height": 563
        },
        "id": "JxDabVyPu0mP",
        "outputId": "65df6405-630d-4871-f748-593fc7dc8198"
      },
      "source": [
        "a,b = eval(input(\"請輸入兩個數位：\"))\n",
        "c=a+b\n",
        "c"
      ],
      "execution_count": null,
      "outputs": [
        {
          "output_type": "error",
          "ename": "KeyboardInterrupt",
          "evalue": "ignored",
          "traceback": [
            "\u001b[0;31m---------------------------------------------------------------------------\u001b[0m",
            "\u001b[0;31mKeyboardInterrupt\u001b[0m                         Traceback (most recent call last)",
            "\u001b[0;32m/usr/local/lib/python3.6/dist-packages/ipykernel/kernelbase.py\u001b[0m in \u001b[0;36m_input_request\u001b[0;34m(self, prompt, ident, parent, password)\u001b[0m\n\u001b[1;32m    728\u001b[0m             \u001b[0;32mtry\u001b[0m\u001b[0;34m:\u001b[0m\u001b[0;34m\u001b[0m\u001b[0;34m\u001b[0m\u001b[0m\n\u001b[0;32m--> 729\u001b[0;31m                 \u001b[0mident\u001b[0m\u001b[0;34m,\u001b[0m \u001b[0mreply\u001b[0m \u001b[0;34m=\u001b[0m \u001b[0mself\u001b[0m\u001b[0;34m.\u001b[0m\u001b[0msession\u001b[0m\u001b[0;34m.\u001b[0m\u001b[0mrecv\u001b[0m\u001b[0;34m(\u001b[0m\u001b[0mself\u001b[0m\u001b[0;34m.\u001b[0m\u001b[0mstdin_socket\u001b[0m\u001b[0;34m,\u001b[0m \u001b[0;36m0\u001b[0m\u001b[0;34m)\u001b[0m\u001b[0;34m\u001b[0m\u001b[0;34m\u001b[0m\u001b[0m\n\u001b[0m\u001b[1;32m    730\u001b[0m             \u001b[0;32mexcept\u001b[0m \u001b[0mException\u001b[0m\u001b[0;34m:\u001b[0m\u001b[0;34m\u001b[0m\u001b[0;34m\u001b[0m\u001b[0m\n",
            "\u001b[0;32m/usr/local/lib/python3.6/dist-packages/jupyter_client/session.py\u001b[0m in \u001b[0;36mrecv\u001b[0;34m(self, socket, mode, content, copy)\u001b[0m\n\u001b[1;32m    802\u001b[0m         \u001b[0;32mtry\u001b[0m\u001b[0;34m:\u001b[0m\u001b[0;34m\u001b[0m\u001b[0;34m\u001b[0m\u001b[0m\n\u001b[0;32m--> 803\u001b[0;31m             \u001b[0mmsg_list\u001b[0m \u001b[0;34m=\u001b[0m \u001b[0msocket\u001b[0m\u001b[0;34m.\u001b[0m\u001b[0mrecv_multipart\u001b[0m\u001b[0;34m(\u001b[0m\u001b[0mmode\u001b[0m\u001b[0;34m,\u001b[0m \u001b[0mcopy\u001b[0m\u001b[0;34m=\u001b[0m\u001b[0mcopy\u001b[0m\u001b[0;34m)\u001b[0m\u001b[0;34m\u001b[0m\u001b[0;34m\u001b[0m\u001b[0m\n\u001b[0m\u001b[1;32m    804\u001b[0m         \u001b[0;32mexcept\u001b[0m \u001b[0mzmq\u001b[0m\u001b[0;34m.\u001b[0m\u001b[0mZMQError\u001b[0m \u001b[0;32mas\u001b[0m \u001b[0me\u001b[0m\u001b[0;34m:\u001b[0m\u001b[0;34m\u001b[0m\u001b[0;34m\u001b[0m\u001b[0m\n",
            "\u001b[0;32m/usr/local/lib/python3.6/dist-packages/zmq/sugar/socket.py\u001b[0m in \u001b[0;36mrecv_multipart\u001b[0;34m(self, flags, copy, track)\u001b[0m\n\u001b[1;32m    565\u001b[0m         \"\"\"\n\u001b[0;32m--> 566\u001b[0;31m         \u001b[0mparts\u001b[0m \u001b[0;34m=\u001b[0m \u001b[0;34m[\u001b[0m\u001b[0mself\u001b[0m\u001b[0;34m.\u001b[0m\u001b[0mrecv\u001b[0m\u001b[0;34m(\u001b[0m\u001b[0mflags\u001b[0m\u001b[0;34m,\u001b[0m \u001b[0mcopy\u001b[0m\u001b[0;34m=\u001b[0m\u001b[0mcopy\u001b[0m\u001b[0;34m,\u001b[0m \u001b[0mtrack\u001b[0m\u001b[0;34m=\u001b[0m\u001b[0mtrack\u001b[0m\u001b[0;34m)\u001b[0m\u001b[0;34m]\u001b[0m\u001b[0;34m\u001b[0m\u001b[0;34m\u001b[0m\u001b[0m\n\u001b[0m\u001b[1;32m    567\u001b[0m         \u001b[0;31m# have first part already, only loop while more to receive\u001b[0m\u001b[0;34m\u001b[0m\u001b[0;34m\u001b[0m\u001b[0;34m\u001b[0m\u001b[0m\n",
            "\u001b[0;32mzmq/backend/cython/socket.pyx\u001b[0m in \u001b[0;36mzmq.backend.cython.socket.Socket.recv\u001b[0;34m()\u001b[0m\n",
            "\u001b[0;32mzmq/backend/cython/socket.pyx\u001b[0m in \u001b[0;36mzmq.backend.cython.socket.Socket.recv\u001b[0;34m()\u001b[0m\n",
            "\u001b[0;32mzmq/backend/cython/socket.pyx\u001b[0m in \u001b[0;36mzmq.backend.cython.socket._recv_copy\u001b[0;34m()\u001b[0m\n",
            "\u001b[0;32m/usr/local/lib/python3.6/dist-packages/zmq/backend/cython/checkrc.pxd\u001b[0m in \u001b[0;36mzmq.backend.cython.checkrc._check_rc\u001b[0;34m()\u001b[0m\n",
            "\u001b[0;31mKeyboardInterrupt\u001b[0m: ",
            "\nDuring handling of the above exception, another exception occurred:\n",
            "\u001b[0;31mKeyboardInterrupt\u001b[0m                         Traceback (most recent call last)",
            "\u001b[0;32m<ipython-input-7-7b9ae4edeb9f>\u001b[0m in \u001b[0;36m<module>\u001b[0;34m()\u001b[0m\n\u001b[0;32m----> 1\u001b[0;31m \u001b[0ma\u001b[0m\u001b[0;34m,\u001b[0m\u001b[0mb\u001b[0m \u001b[0;34m=\u001b[0m \u001b[0meval\u001b[0m\u001b[0;34m(\u001b[0m\u001b[0minput\u001b[0m\u001b[0;34m(\u001b[0m\u001b[0;34m\"請輸入兩個數位：\"\u001b[0m\u001b[0;34m)\u001b[0m\u001b[0;34m)\u001b[0m\u001b[0;34m\u001b[0m\u001b[0;34m\u001b[0m\u001b[0m\n\u001b[0m\u001b[1;32m      2\u001b[0m \u001b[0mc\u001b[0m\u001b[0;34m=\u001b[0m\u001b[0ma\u001b[0m\u001b[0;34m+\u001b[0m\u001b[0mb\u001b[0m\u001b[0;34m\u001b[0m\u001b[0;34m\u001b[0m\u001b[0m\n\u001b[1;32m      3\u001b[0m \u001b[0mc\u001b[0m\u001b[0;34m\u001b[0m\u001b[0;34m\u001b[0m\u001b[0m\n",
            "\u001b[0;32m/usr/local/lib/python3.6/dist-packages/ipykernel/kernelbase.py\u001b[0m in \u001b[0;36mraw_input\u001b[0;34m(self, prompt)\u001b[0m\n\u001b[1;32m    702\u001b[0m             \u001b[0mself\u001b[0m\u001b[0;34m.\u001b[0m\u001b[0m_parent_ident\u001b[0m\u001b[0;34m,\u001b[0m\u001b[0;34m\u001b[0m\u001b[0;34m\u001b[0m\u001b[0m\n\u001b[1;32m    703\u001b[0m             \u001b[0mself\u001b[0m\u001b[0;34m.\u001b[0m\u001b[0m_parent_header\u001b[0m\u001b[0;34m,\u001b[0m\u001b[0;34m\u001b[0m\u001b[0;34m\u001b[0m\u001b[0m\n\u001b[0;32m--> 704\u001b[0;31m             \u001b[0mpassword\u001b[0m\u001b[0;34m=\u001b[0m\u001b[0;32mFalse\u001b[0m\u001b[0;34m,\u001b[0m\u001b[0;34m\u001b[0m\u001b[0;34m\u001b[0m\u001b[0m\n\u001b[0m\u001b[1;32m    705\u001b[0m         )\n\u001b[1;32m    706\u001b[0m \u001b[0;34m\u001b[0m\u001b[0m\n",
            "\u001b[0;32m/usr/local/lib/python3.6/dist-packages/ipykernel/kernelbase.py\u001b[0m in \u001b[0;36m_input_request\u001b[0;34m(self, prompt, ident, parent, password)\u001b[0m\n\u001b[1;32m    732\u001b[0m             \u001b[0;32mexcept\u001b[0m \u001b[0mKeyboardInterrupt\u001b[0m\u001b[0;34m:\u001b[0m\u001b[0;34m\u001b[0m\u001b[0;34m\u001b[0m\u001b[0m\n\u001b[1;32m    733\u001b[0m                 \u001b[0;31m# re-raise KeyboardInterrupt, to truncate traceback\u001b[0m\u001b[0;34m\u001b[0m\u001b[0;34m\u001b[0m\u001b[0;34m\u001b[0m\u001b[0m\n\u001b[0;32m--> 734\u001b[0;31m                 \u001b[0;32mraise\u001b[0m \u001b[0mKeyboardInterrupt\u001b[0m\u001b[0;34m\u001b[0m\u001b[0;34m\u001b[0m\u001b[0m\n\u001b[0m\u001b[1;32m    735\u001b[0m             \u001b[0;32melse\u001b[0m\u001b[0;34m:\u001b[0m\u001b[0;34m\u001b[0m\u001b[0;34m\u001b[0m\u001b[0m\n\u001b[1;32m    736\u001b[0m                 \u001b[0;32mbreak\u001b[0m\u001b[0;34m\u001b[0m\u001b[0;34m\u001b[0m\u001b[0m\n",
            "\u001b[0;31mKeyboardInterrupt\u001b[0m: "
          ]
        }
      ]
    },
    {
      "cell_type": "code",
      "metadata": {
        "colab": {
          "base_uri": "https://localhost:8080/"
        },
        "id": "qH3VYhoezZAX",
        "outputId": "30360e0b-3a48-4eff-ce8d-b9440da2d407"
      },
      "source": [
        "x = 1\n",
        "y = 2.8\n",
        "z = 1j\n",
        "x = 1\n",
        "y = 2.8\n",
        "z = 1j\n",
        "\n",
        "print(type(x))\n",
        "print(type(y))\n",
        "print(type(z))\n"
      ],
      "execution_count": null,
      "outputs": [
        {
          "output_type": "stream",
          "text": [
            "<class 'int'>\n",
            "<class 'float'>\n",
            "<class 'complex'>\n"
          ],
          "name": "stdout"
        }
      ]
    },
    {
      "cell_type": "code",
      "metadata": {
        "colab": {
          "base_uri": "https://localhost:8080/"
        },
        "id": "wYILvYwXzoIW",
        "outputId": "bc939d8d-8220-41db-bcc7-f20f4f8bbd51"
      },
      "source": [
        "a = 17 / 3\n",
        "\n",
        "b = 17 // 3\n",
        "\n",
        "c = 17 % 3\n",
        "\n",
        "a,b,c"
      ],
      "execution_count": null,
      "outputs": [
        {
          "output_type": "execute_result",
          "data": {
            "text/plain": [
              "(5.666666666666667, 5, 2)"
            ]
          },
          "metadata": {
            "tags": []
          },
          "execution_count": 4
        }
      ]
    },
    {
      "cell_type": "code",
      "metadata": {
        "colab": {
          "base_uri": "https://localhost:8080/"
        },
        "id": "GIibl6LBzqpe",
        "outputId": "16229ef2-9da2-4d45-e0eb-702af0ba6e58"
      },
      "source": [
        "a = 7//2\n",
        "b = 7.0//2\n",
        "c = 7//2.0\n",
        "\n",
        "a,b,c"
      ],
      "execution_count": null,
      "outputs": [
        {
          "output_type": "execute_result",
          "data": {
            "text/plain": [
              "(3, 3.0, 3.0)"
            ]
          },
          "metadata": {
            "tags": []
          },
          "execution_count": 5
        }
      ]
    },
    {
      "cell_type": "code",
      "metadata": {
        "colab": {
          "base_uri": "https://localhost:8080/"
        },
        "id": "Z7HnfYwjzsZu",
        "outputId": "4b40bfd7-1dba-4618-b107-4a01f13780ea"
      },
      "source": [
        "5 ** 2\n"
      ],
      "execution_count": null,
      "outputs": [
        {
          "output_type": "execute_result",
          "data": {
            "text/plain": [
              "25"
            ]
          },
          "metadata": {
            "tags": []
          },
          "execution_count": 8
        }
      ]
    },
    {
      "cell_type": "code",
      "metadata": {
        "colab": {
          "base_uri": "https://localhost:8080/"
        },
        "id": "AtvdO3PUzzxu",
        "outputId": "4947676a-743f-4422-b9c5-27133efd9ab4"
      },
      "source": [
        "-3%2\n"
      ],
      "execution_count": null,
      "outputs": [
        {
          "output_type": "execute_result",
          "data": {
            "text/plain": [
              "1"
            ]
          },
          "metadata": {
            "tags": []
          },
          "execution_count": 9
        }
      ]
    },
    {
      "cell_type": "code",
      "metadata": {
        "colab": {
          "base_uri": "https://localhost:8080/"
        },
        "id": "CboAgxLZzy5_",
        "outputId": "2fc67ac7-f131-456f-e542-f2dcb2e45ac0"
      },
      "source": [
        "tax = 12.5 / 100\n",
        "price = 100.50\n",
        "price * tax\n",
        "\n",
        "price + _\n",
        "\n",
        "round(_, 2)\n",
        "\n",
        "round(_)"
      ],
      "execution_count": null,
      "outputs": [
        {
          "output_type": "execute_result",
          "data": {
            "text/plain": [
              "1"
            ]
          },
          "metadata": {
            "tags": []
          },
          "execution_count": 10
        }
      ]
    },
    {
      "cell_type": "code",
      "metadata": {
        "colab": {
          "base_uri": "https://localhost:8080/"
        },
        "id": "yXrYdZ9gz4hv",
        "outputId": "6f8be7c0-8b9f-45e1-c25d-cc05c979b049"
      },
      "source": [
        "x = 5\n",
        "\n",
        "print(x > 3 and x < 10)\n",
        "\n",
        "x = 5\n",
        "\n",
        "print(x > 3 or x < 4)\n",
        "\n",
        "x = 5\n",
        "\n",
        "print(not(x > 3 and x < 10))"
      ],
      "execution_count": null,
      "outputs": [
        {
          "output_type": "stream",
          "text": [
            "True\n",
            "True\n",
            "False\n"
          ],
          "name": "stdout"
        }
      ]
    },
    {
      "cell_type": "code",
      "metadata": {
        "colab": {
          "base_uri": "https://localhost:8080/",
          "height": 35
        },
        "id": "z-juLXGmz8WX",
        "outputId": "4d01ed02-d1c8-415c-a91f-afff88b3de26"
      },
      "source": [
        "x = bin(36)\n",
        "x"
      ],
      "execution_count": null,
      "outputs": [
        {
          "output_type": "execute_result",
          "data": {
            "application/vnd.google.colaboratory.intrinsic+json": {
              "type": "string"
            },
            "text/plain": [
              "'0b100100'"
            ]
          },
          "metadata": {
            "tags": []
          },
          "execution_count": 12
        }
      ]
    },
    {
      "cell_type": "code",
      "metadata": {
        "colab": {
          "base_uri": "https://localhost:8080/",
          "height": 35
        },
        "id": "IasKXSJ4z9RX",
        "outputId": "14063528-a52b-466d-98ee-03c0922160bc"
      },
      "source": [
        "x = oct(36)\n",
        "x"
      ],
      "execution_count": null,
      "outputs": [
        {
          "output_type": "execute_result",
          "data": {
            "application/vnd.google.colaboratory.intrinsic+json": {
              "type": "string"
            },
            "text/plain": [
              "'0o44'"
            ]
          },
          "metadata": {
            "tags": []
          },
          "execution_count": 13
        }
      ]
    },
    {
      "cell_type": "code",
      "metadata": {
        "colab": {
          "base_uri": "https://localhost:8080/",
          "height": 35
        },
        "id": "LJJ3kK6ez-Nn",
        "outputId": "8d1efaa8-551b-4e2d-cd0f-13431b650a35"
      },
      "source": [
        "x = hex(255)\n",
        "x"
      ],
      "execution_count": null,
      "outputs": [
        {
          "output_type": "execute_result",
          "data": {
            "application/vnd.google.colaboratory.intrinsic+json": {
              "type": "string"
            },
            "text/plain": [
              "'0xff'"
            ]
          },
          "metadata": {
            "tags": []
          },
          "execution_count": 14
        }
      ]
    },
    {
      "cell_type": "code",
      "metadata": {
        "colab": {
          "base_uri": "https://localhost:8080/"
        },
        "id": "Vm-MDZ-Cz_XH",
        "outputId": "add9dc71-90f2-46ce-c107-1b0d97be66ba"
      },
      "source": [
        "x=int('10',2)\n",
        "x"
      ],
      "execution_count": null,
      "outputs": [
        {
          "output_type": "execute_result",
          "data": {
            "text/plain": [
              "2"
            ]
          },
          "metadata": {
            "tags": []
          },
          "execution_count": 15
        }
      ]
    },
    {
      "cell_type": "code",
      "metadata": {
        "colab": {
          "base_uri": "https://localhost:8080/"
        },
        "id": "ELtzKnKj0AkX",
        "outputId": "63985fa8-09ce-4d06-bf5b-f265f77410dd"
      },
      "source": [
        "x=int('10',16)\n",
        "x\n"
      ],
      "execution_count": null,
      "outputs": [
        {
          "output_type": "execute_result",
          "data": {
            "text/plain": [
              "16"
            ]
          },
          "metadata": {
            "tags": []
          },
          "execution_count": 16
        }
      ]
    },
    {
      "cell_type": "code",
      "metadata": {
        "colab": {
          "base_uri": "https://localhost:8080/"
        },
        "id": "Q8aoVHCe0Bi3",
        "outputId": "b1439987-77d9-42bb-9fc0-48856f8cf305"
      },
      "source": [
        "x=int('10',8)\n",
        "x\n"
      ],
      "execution_count": null,
      "outputs": [
        {
          "output_type": "execute_result",
          "data": {
            "text/plain": [
              "8"
            ]
          },
          "metadata": {
            "tags": []
          },
          "execution_count": 17
        }
      ]
    },
    {
      "cell_type": "code",
      "metadata": {
        "colab": {
          "base_uri": "https://localhost:8080/"
        },
        "id": "WWu2VLqb0C8H",
        "outputId": "b9645a54-0bac-4cb8-9810-e0f6fd9ba851"
      },
      "source": [
        "#Round a number to only two decimals:\n",
        "\n",
        "x = round(5.76543, 2)\n",
        "print(x)\n",
        "\n",
        "# Round to the nearest integer:\n",
        "\n",
        "x = round(5.76543)\n",
        "print(x)"
      ],
      "execution_count": null,
      "outputs": [
        {
          "output_type": "stream",
          "text": [
            "5.77\n",
            "6\n"
          ],
          "name": "stdout"
        }
      ]
    },
    {
      "cell_type": "code",
      "metadata": {
        "colab": {
          "base_uri": "https://localhost:8080/"
        },
        "id": "NUoFxbrT0E8x",
        "outputId": "0338ae36-b489-4041-acb2-a9921d310815"
      },
      "source": [
        "a = 1.0004\n",
        "int(a)"
      ],
      "execution_count": null,
      "outputs": [
        {
          "output_type": "execute_result",
          "data": {
            "text/plain": [
              "1"
            ]
          },
          "metadata": {
            "tags": []
          },
          "execution_count": 19
        }
      ]
    },
    {
      "cell_type": "code",
      "metadata": {
        "colab": {
          "base_uri": "https://localhost:8080/"
        },
        "id": "E3z7ev_70Gi_",
        "outputId": "02ec2394-e5b9-41fd-ecc9-57b0bd1d430d"
      },
      "source": [
        "b = 0.9999\n",
        "int(a)"
      ],
      "execution_count": null,
      "outputs": [
        {
          "output_type": "execute_result",
          "data": {
            "text/plain": [
              "1"
            ]
          },
          "metadata": {
            "tags": []
          },
          "execution_count": 20
        }
      ]
    },
    {
      "cell_type": "code",
      "metadata": {
        "colab": {
          "base_uri": "https://localhost:8080/"
        },
        "id": "mWogpwAO0SX_",
        "outputId": "86bbc6d6-dd80-4c00-9fba-caa247ac2af2"
      },
      "source": [
        "#!/usr/bin/python3\n",
        " \n",
        "a = 60            # 60 = 0011 1100 \n",
        "b = 13            # 13 = 0000 1101 \n",
        "c = 0\n",
        "\n",
        "print (\"0 - a =  60 = 0011 1100(二進位) \")\n",
        "print (\"0 - b =  13 = 0000 1101(二進位) \")\n",
        "c = a & b;        # 12 = 0000 1100\n",
        "print (\"1 - c = a & b的值為：\", c)\n",
        " \n",
        "c = a | b;        # 61 = 0011 1101 \n",
        "print (\"2 - c = a | b的值為：\", c)\n",
        " \n",
        "c = a ^ b;        # 49 = 0011 0001\n",
        "print (\"3 - c= a ^ b 的值為：\", c)\n",
        " \n",
        "c = ~a;           # -61 = 1100 0011\n",
        "print (\"4 - c = ~a的值為：\", c)\n",
        " \n",
        "c = a << 2;       # 240 = 1111 0000\n",
        "print (\"5 - c = a << 2的值為：\", c)\n",
        " \n",
        "c = a >> 2;       # 15 = 0000 1111\n",
        "print (\"6 - c = a >> 2的值為：\", c)"
      ],
      "execution_count": null,
      "outputs": [
        {
          "output_type": "stream",
          "text": [
            "0 - a =  60 = 0011 1100(二進位) \n",
            "0 - b =  13 = 0000 1101(二進位) \n",
            "1 - c = a & b的值為： 12\n",
            "2 - c = a | b的值為： 61\n",
            "3 - c= a ^ b 的值為： 49\n",
            "4 - c = ~a的值為： -61\n",
            "5 - c = a << 2的值為： 240\n",
            "6 - c = a >> 2的值為： 15\n"
          ],
          "name": "stdout"
        }
      ]
    },
    {
      "cell_type": "code",
      "metadata": {
        "colab": {
          "base_uri": "https://localhost:8080/"
        },
        "id": "YIsf4lCn315P",
        "outputId": "5cb466ff-d5c4-488a-986d-32e383b13c1f"
      },
      "source": [
        "str1 = '這是字串'\n",
        "print(str1)\n",
        "\n",
        "str2 = \"這也是字串\"\n",
        "print(str2)\n",
        "\n",
        "str3 = 'allows embedded \"double\" quotes'\n",
        "print(str3)"
      ],
      "execution_count": null,
      "outputs": [
        {
          "output_type": "stream",
          "text": [
            "這是字串\n",
            "這也是字串\n",
            "allows embedded \"double\" quotes\n"
          ],
          "name": "stdout"
        }
      ]
    },
    {
      "cell_type": "code",
      "metadata": {
        "colab": {
          "base_uri": "https://localhost:8080/"
        },
        "id": "QrFq2vKN357Y",
        "outputId": "d031029f-c403-440c-d549-2f675ddc5ecd"
      },
      "source": [
        "#!/usr/bin/python\n",
        " \n",
        "var1 = 'Hello Python!'\n",
        " \n",
        "print(\"var1[0]: \", var1[0])\n",
        "print(\"var1[1:8]: \", var1[1:8])"
      ],
      "execution_count": null,
      "outputs": [
        {
          "output_type": "stream",
          "text": [
            "var1[0]:  H\n",
            "var1[1:8]:  ello Py\n"
          ],
          "name": "stdout"
        }
      ]
    }
  ]
}