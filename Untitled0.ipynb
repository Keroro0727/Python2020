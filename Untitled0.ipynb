{
  "nbformat": 4,
  "nbformat_minor": 0,
  "metadata": {
    "colab": {
      "name": "Untitled0.ipynb",
      "provenance": [],
      "authorship_tag": "ABX9TyOPaNSIImIPupywMxGws7r0",
      "include_colab_link": true
    },
    "kernelspec": {
      "name": "python3",
      "display_name": "Python 3"
    }
  },
  "cells": [
    {
      "cell_type": "markdown",
      "metadata": {
        "id": "view-in-github",
        "colab_type": "text"
      },
      "source": [
        "<a href=\"https://colab.research.google.com/github/Keroro0727/Python2020/blob/main/Untitled0.ipynb\" target=\"_parent\"><img src=\"https://colab.research.google.com/assets/colab-badge.svg\" alt=\"Open In Colab\"/></a>"
      ]
    },
    {
      "cell_type": "markdown",
      "metadata": {
        "id": "Zid-HCx55sxe"
      },
      "source": [
        "1_基本輸入與輸出\n",
        "\n",
        "2020.12.08\n",
        "![images (3).jpg](data:image/jpeg;base64,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)"
      ]
    },
    {
      "cell_type": "code",
      "metadata": {
        "colab": {
          "base_uri": "https://localhost:8080/"
        },
        "id": "tVb92QRV5fl2",
        "outputId": "a4f12fff-26bf-4bc1-a261-ddd75427fed7"
      },
      "source": [
        "a = eval(input(\"請輸入：\"))\n",
        "a\n",
        "\n",
        "b=a+1\n",
        "b"
      ],
      "execution_count": 3,
      "outputs": [
        {
          "output_type": "stream",
          "text": [
            "請輸入：45\n"
          ],
          "name": "stdout"
        },
        {
          "output_type": "execute_result",
          "data": {
            "text/plain": [
              "46"
            ]
          },
          "metadata": {
            "tags": []
          },
          "execution_count": 3
        }
      ]
    },
    {
      "cell_type": "code",
      "metadata": {
        "colab": {
          "base_uri": "https://localhost:8080/"
        },
        "id": "mcvs_8Pf5hOO",
        "outputId": "5a2848b6-25b5-43c1-a695-475b6e439dfd"
      },
      "source": [
        "a,b = eval(input(\"請輸入兩個數位：\"))\n",
        "a,b"
      ],
      "execution_count": 4,
      "outputs": [
        {
          "output_type": "stream",
          "text": [
            "請輸入兩個數位：45,55\n"
          ],
          "name": "stdout"
        },
        {
          "output_type": "execute_result",
          "data": {
            "text/plain": [
              "(45, 55)"
            ]
          },
          "metadata": {
            "tags": []
          },
          "execution_count": 4
        }
      ]
    },
    {
      "cell_type": "code",
      "metadata": {
        "id": "wwjyrzEj5lEu"
      },
      "source": [
        "x, y, z = [int(x) for x in input(\"Enter three value: \").split()] \n",
        "print(\"First Number is: \", x) \n",
        "print(\"Second Number is: \", y) \n",
        "print(\"Third Number is: \", z) \n",
        "print()\n",
        "\n",
        "x, y, z = [int(x) for x in input(\"Enter three value: \").split(\",\")] \n",
        "print(\"First Number is: \", x) \n",
        "print(\"Second Number is: \", y) \n",
        "print(\"Third Number is: \", z) \n",
        "print()\n",
        "\n",
        "a, b = input(\"Enter a two value: \").split() \n",
        "print(\"First number is {} and second number is {}\".format(a, b)) \n",
        "print()"
      ],
      "execution_count": null,
      "outputs": []
    }
  ]
}